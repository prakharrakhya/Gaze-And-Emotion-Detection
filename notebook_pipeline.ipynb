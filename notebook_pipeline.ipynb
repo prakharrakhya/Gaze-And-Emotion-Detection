{
  "cells": [
    {
      "cell_type": "markdown",
      "metadata": {
        "id": "szWZX6qMw4wX"
      },
      "source": [
        "# Cloning the Repo\n",
        "from \"https://github.com/prakharrakhya/Gaze-And-Emotion-Detection\""
      ]
    },
    {
      "cell_type": "code",
      "execution_count": null,
      "metadata": {
        "id": "7dEesZTSnufI"
      },
      "outputs": [],
      "source": [
        "!git clone https://github.com/prakharrakhya/Gaze-And-Emotion-Detection.git"
      ]
    },
    {
      "cell_type": "markdown",
      "metadata": {
        "id": "JrOYo4HSw_lm"
      },
      "source": [
        "# Downloading requirements\n",
        "\n",
        "Dont change the folder structure "
      ]
    },
    {
      "cell_type": "code",
      "execution_count": null,
      "metadata": {
        "id": "Bl-8tcu9oFVi"
      },
      "outputs": [],
      "source": [
        "%cd Gaze-And-Emotion-Detection/hoi-prediction-gaze-transformer"
      ]
    },
    {
      "cell_type": "code",
      "execution_count": null,
      "metadata": {
        "id": "2M7TZ14XoOIU"
      },
      "outputs": [],
      "source": [
        "!pip install -r requirements.txt"
      ]
    },
    {
      "cell_type": "code",
      "execution_count": null,
      "metadata": {
        "id": "MlMEpJ33oV-Y"
      },
      "outputs": [],
      "source": [
        "!pip install yt-dlp"
      ]
    },
    {
      "cell_type": "markdown",
      "metadata": {},
      "source": [
        "# Downloading some weights"
      ]
    },
    {
      "cell_type": "code",
      "execution_count": null,
      "metadata": {
        "id": "ElfD1auWo3ab"
      },
      "outputs": [],
      "source": [
        "%cd weights"
      ]
    },
    {
      "cell_type": "code",
      "execution_count": null,
      "metadata": {
        "id": "98yFTehcpJ0-"
      },
      "outputs": [],
      "source": [
        "%cd yolov5"
      ]
    },
    {
      "cell_type": "code",
      "execution_count": null,
      "metadata": {
        "id": "GKD_m5Dope4S"
      },
      "outputs": [],
      "source": [
        "!wget -O \"vidor_yolov5l.pt\" \"https://huggingface.co/prakharC47/modelweights/resolve/main/vidor_yolov5l.pt?download=true\""
      ]
    },
    {
      "cell_type": "code",
      "execution_count": null,
      "metadata": {
        "id": "1ysqs4Tfn-xb"
      },
      "outputs": [],
      "source": [
        "%cd ../emotion_vit"
      ]
    },
    {
      "cell_type": "code",
      "execution_count": null,
      "metadata": {
        "id": "F9pcnxhaoEyi"
      },
      "outputs": [],
      "source": [
        "!wget -O \"model.safetensors\" \"https://huggingface.co/prakharC47/modelweights/resolve/main/emotion_vit/model.safetensors?download=true\""
      ]
    },
    {
      "cell_type": "code",
      "execution_count": null,
      "metadata": {
        "id": "NS-z-afSpoVp"
      },
      "outputs": [],
      "source": [
        "%cd ../sttrangaze"
      ]
    },
    {
      "cell_type": "code",
      "execution_count": null,
      "metadata": {
        "id": "pXg9QksSqUdv"
      },
      "outputs": [],
      "source": [
        "!wget -O \"ag_f0_final.pt\" \"https://huggingface.co/prakharC47/modelweights/resolve/main/ag_f0_final.pt?download=true\"\n",
        "!wget -O \"f0_final.pt\" \"https://huggingface.co/prakharC47/modelweights/resolve/main/f0_final.pt?download=true\"\n",
        "!wget -O \"f1_final.pt\" \"https://huggingface.co/prakharC47/modelweights/resolve/main/f1_final.pt?download=true\"\n",
        "!wget -O \"f3_final.pt\" \"https://huggingface.co/prakharC47/modelweights/resolve/main/f3_final.pt?download=true\"\n",
        "!wget -O \"f5_final.pt\" \"https://huggingface.co/prakharC47/modelweights/resolve/main/f5_final.pt?download=true\"\n",
        "!wget -O \"f7_final.pt\" \"https://huggingface.co/prakharC47/modelweights/resolve/main/f7_final.pt?download=true\""
      ]
    },
    {
      "cell_type": "code",
      "execution_count": null,
      "metadata": {
        "id": "L43y_HnGpitf"
      },
      "outputs": [],
      "source": [
        "%cd ../../.."
      ]
    },
    {
      "cell_type": "markdown",
      "metadata": {
        "id": "iz7xQOP6wLNh"
      },
      "source": [
        "# video in \".mp4\" fileformat only works , getting demo video from youtube"
      ]
    },
    {
      "cell_type": "code",
      "execution_count": null,
      "metadata": {
        "id": "X2xSY3GLr4F7"
      },
      "outputs": [],
      "source": [
        "#downloading video\n",
        "!yt-dlp \"https://www.youtube.com/watch?v=V9YDDpo9LWg\" -o \"demo.mp4\"\n"
      ]
    },
    {
      "cell_type": "code",
      "execution_count": 14,
      "metadata": {
        "id": "qc07-CFuy-2_"
      },
      "outputs": [],
      "source": [
        "#renaming the file because youtube downloads webm but we accept only .mp4\n",
        "try:\n",
        "  !mv \"demo.mp4.webm\" \"demo.mp4\"\n",
        "except:\n",
        "  pass"
      ]
    },
    {
      "cell_type": "markdown",
      "metadata": {
        "id": "2XwxeMd_xQ1t"
      },
      "source": [
        "## folder where output video will be there"
      ]
    },
    {
      "cell_type": "code",
      "execution_count": 15,
      "metadata": {
        "id": "ADjkYPxzsbUQ"
      },
      "outputs": [],
      "source": [
        "#here Result Video will saved\n",
        "!mkdir output"
      ]
    },
    {
      "cell_type": "markdown",
      "metadata": {
        "id": "Hil4LcD4xYR2"
      },
      "source": [
        "# running the model "
      ]
    },
    {
      "cell_type": "code",
      "execution_count": null,
      "metadata": {
        "id": "P8Oj3SG9srp3"
      },
      "outputs": [],
      "source": [
        "video_path = \"/videoPathHere/video.mp4\"\n",
        "\n",
        "!python ./hoi-prediction-gaze-transformer/run.py --source video_path --out output --future 0 --hoi-thres 0.3 --print"
      ]
    },
    {
      "cell_type": "code",
      "execution_count": 16,
      "metadata": {
        "id": "QJmDlkeNsxFb"
      },
      "outputs": [],
      "source": []
    }
  ],
  "metadata": {
    "accelerator": "GPU",
    "colab": {
      "gpuType": "T4",
      "provenance": []
    },
    "kernelspec": {
      "display_name": "Python 3",
      "name": "python3"
    },
    "language_info": {
      "name": "python"
    }
  },
  "nbformat": 4,
  "nbformat_minor": 0
}
